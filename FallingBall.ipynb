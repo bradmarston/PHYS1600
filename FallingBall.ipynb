{
 "cells": [
  {
   "cell_type": "code",
   "execution_count": 2,
   "id": "e0b2a45e-078d-4684-87c5-c25ecdbe9fe3",
   "metadata": {},
   "outputs": [
    {
     "name": "stdout",
     "output_type": "stream",
     "text": [
      "Float64\n"
     ]
    },
    {
     "data": {
      "text/plain": [
       "dynamics (generic function with 1 method)"
      ]
     },
     "execution_count": 2,
     "metadata": {},
     "output_type": "execute_result"
    }
   ],
   "source": [
    "dt = 0.01 # time step\n",
    "g = 9.8 # acceleration of gravity in m/s^2\n",
    "println(typeof(g))\n",
    "\n",
    "\n",
    "function dynamics(y::Float64, v::Float64, t::Float64) #Euler algorithm\n",
    "   for i in 1:100\n",
    "      y = y + v * dt\n",
    "      v = v - g * dt\n",
    "      t = t + dt\n",
    "   end\n",
    "\n",
    "   return y, v, t\n",
    "end"
   ]
  },
  {
   "cell_type": "code",
   "execution_count": 2,
   "id": "564d410c-4137-4d19-bb00-bd6c3335f0d7",
   "metadata": {},
   "outputs": [
    {
     "name": "stdout",
     "output_type": "stream",
     "text": [
      "\n",
      "\t Results\n",
      "final time  = 1.0000000000000007\n",
      "y = 5.149000000000003 and v = -9.800000000000006\n",
      "exact v = -9.800000000000008\n",
      "exact y = 5.099999999999993\n"
     ]
    }
   ],
   "source": [
    "y0 = 10.0 # initial position\n",
    "v0 = 0.0 # initial velocity\n",
    "\n",
    "y, v, t = dynamics(y0, v0, 0.0) # time evolve for 100 steps\n",
    "\n",
    "println(\"\\n\\t Results\")\n",
    "println(\"final time  = \", t)\n",
    "println(\"y = \", y, \" and v = \", v)\n",
    "println(\"exact v = \", v0 - g * t)\n",
    "println(\"exact y = \", y0 + v0 * t - 0.5 * g * t^2.0)"
   ]
  },
  {
   "cell_type": "code",
   "execution_count": null,
   "id": "91b052f0-f04c-418e-8a56-cc85a69620d8",
   "metadata": {},
   "outputs": [],
   "source": []
  }
 ],
 "metadata": {
  "kernelspec": {
   "display_name": "Julia 1.8.5",
   "language": "julia",
   "name": "julia-1.8"
  },
  "language_info": {
   "file_extension": ".jl",
   "mimetype": "application/julia",
   "name": "julia",
   "version": "1.8.5"
  }
 },
 "nbformat": 4,
 "nbformat_minor": 5
}
