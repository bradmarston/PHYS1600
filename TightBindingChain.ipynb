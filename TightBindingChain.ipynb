{
 "cells": [
  {
   "cell_type": "code",
   "execution_count": 1,
   "id": "c600dcdf-bdeb-467f-bbb9-de284f88df5b",
   "metadata": {
    "tags": []
   },
   "outputs": [
    {
     "data": {
      "text/plain": [
       "eigenenergies (generic function with 1 method)"
      ]
     },
     "execution_count": 1,
     "metadata": {},
     "output_type": "execute_result"
    }
   ],
   "source": [
    "using LinearAlgebra\n",
    "\n",
    "# Define the tight binding Hamiltonian\n",
    "function tight_binding_hamiltonian(n_sites::Int64, t::Float64)\n",
    "    H = zeros(n_sites, n_sites)\n",
    "    for i in 1:(n_sites-1)\n",
    "        H[i, i+1] = t\n",
    "        H[i+1, i] = t\n",
    "    end\n",
    "    H\n",
    "end\n",
    "\n",
    "# Find the eigenenergies of the Hamiltonian\n",
    "function eigenenergies(H::Array{Float64, 2})\n",
    "    eigvals(H)\n",
    "end"
   ]
  },
  {
   "cell_type": "code",
   "execution_count": 2,
   "id": "eca90f2f-fd76-4e59-b56c-6c43ac770f3c",
   "metadata": {},
   "outputs": [
    {
     "data": {
      "text/plain": [
       "10-element Vector{Float64}:\n",
       " -1.9189859472289947\n",
       " -1.6825070656623624\n",
       " -1.3097214678905702\n",
       " -0.8308300260037728\n",
       " -0.28462967654657056\n",
       "  0.28462967654657106\n",
       "  0.8308300260037732\n",
       "  1.3097214678905702\n",
       "  1.682507065662361\n",
       "  1.9189859472289947"
      ]
     },
     "execution_count": 2,
     "metadata": {},
     "output_type": "execute_result"
    }
   ],
   "source": [
    "n_sites = 10 # number of sites in the chain\n",
    "t = 1.0 # hopping parameter\n",
    "H = tight_binding_hamiltonian(n_sites, t)\n",
    "energies = eigenenergies(H)"
   ]
  },
  {
   "cell_type": "code",
   "execution_count": null,
   "id": "f313929c-b09f-4493-bde8-2f806edc4fc2",
   "metadata": {},
   "outputs": [],
   "source": []
  }
 ],
 "metadata": {
  "kernelspec": {
   "display_name": "Julia 1.8.5",
   "language": "julia",
   "name": "julia-1.8"
  },
  "language_info": {
   "file_extension": ".jl",
   "mimetype": "application/julia",
   "name": "julia",
   "version": "1.8.5"
  }
 },
 "nbformat": 4,
 "nbformat_minor": 5
}
